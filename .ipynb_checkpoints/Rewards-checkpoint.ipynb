{
 "cells": [
  {
   "cell_type": "code",
   "execution_count": 34,
   "id": "88328e3a",
   "metadata": {},
   "outputs": [
    {
     "name": "stdout",
     "output_type": "stream",
     "text": [
      "Enter your name: Taylor\n",
      "Welcome Taylor ! This is your rewards tracker!\n",
      "Do you want to check if you have earned your treat yet? \n",
      " (y) Yes \n",
      " (n) No \n",
      "\n",
      " Option:n\n",
      "Okay have a great day Taylor\n"
     ]
    }
   ],
   "source": [
    "name=input ('Enter your name: ')\n",
    "print ('Welcome',name,'! This is your rewards tracker!') \n",
    "\n",
    "answer = input ('Do you want to check if you have earned your treat yet? \\n (y) Yes \\n (n) No \\n\\n Option:')\n",
    "if answer == \"y\" : \n",
    "    days_since_last_treat =(input(\"How many days ago was your last treat? \"))\n",
    "    dsltft= int(days_since_last_treat)\n",
    "    if dsltft < 10 :\n",
    "        print ('Uh oh',name,'you have to wait a little longer!')\n",
    "    else: \n",
    "        print ('\\n Well done',name,'\\n You can have a treat! \\n Thats the summary of your rewards report. Thank you!')\n",
    "else: \n",
    "  print ('Okay have a great day',name)"
   ]
  },
  {
   "cell_type": "markdown",
   "id": "17b33967",
   "metadata": {},
   "source": [
    " "
   ]
  },
  {
   "cell_type": "code",
   "execution_count": null,
   "id": "21348f3d",
   "metadata": {},
   "outputs": [],
   "source": []
  },
  {
   "cell_type": "code",
   "execution_count": null,
   "id": "6f7ebc3a",
   "metadata": {},
   "outputs": [],
   "source": []
  }
 ],
 "metadata": {
  "kernelspec": {
   "display_name": "Python 3",
   "language": "python",
   "name": "python3"
  },
  "language_info": {
   "codemirror_mode": {
    "name": "ipython",
    "version": 3
   },
   "file_extension": ".py",
   "mimetype": "text/x-python",
   "name": "python",
   "nbconvert_exporter": "python",
   "pygments_lexer": "ipython3",
   "version": "3.8.8"
  }
 },
 "nbformat": 4,
 "nbformat_minor": 5
}
